{
 "cells": [
  {
   "cell_type": "markdown",
   "id": "5ca87d43-ef85-42ca-9ad4-c44a625f48bc",
   "metadata": {},
   "source": [
    "# Data Science Tools and Ecosystem\n",
    "\n",
    "\n",
    "\n",
    "\n",
    "\n",
    "\n",
    "\n",
    "\n",
    "\n",
    "\n",
    "\n",
    "\n",
    "\n",
    "\n",
    "\n",
    "\n",
    "\n",
    "\n",
    "\n",
    "\n",
    "\n",
    "\n",
    "\n",
    "\n",
    "\n",
    "\n",
    "\n",
    "\n"
   ]
  },
  {
   "cell_type": "markdown",
   "id": "d6cd2b29-2f7e-4c90-af73-ee08107b20e7",
   "metadata": {},
   "source": [
    "In this notebook, Data Science Tools and Ecosystem are summarized."
   ]
  },
  {
   "cell_type": "markdown",
   "id": "435028d8-bfa5-416c-98b2-e525986642ed",
   "metadata": {},
   "source": [
    "objectives:\n",
    "- Languages\n",
    "  - Python\n",
    "  - R\n",
    "  - SQL\n",
    "- Libraries:\n",
    "  - NumPy\n",
    "  - Keras\n",
    "  - TensorFlow"
   ]
  },
  {
   "cell_type": "markdown",
   "id": "a9b82406-1f99-4fb2-ad32-277344863748",
   "metadata": {},
   "source": [
    "Some of the popular languages that Data Scientists use are:\n",
    "\n",
    "1. Python\n",
    "2. R\n",
    "3. SQL\n",
    "4. Julia\n",
    "5. Scalaence.\n"
   ]
  },
  {
   "cell_type": "markdown",
   "id": "25d63d05-320e-4daf-bf95-e4a45b724710",
   "metadata": {},
   "source": [
    "Some of the commonly used libraries used by Data Scientists include:\n",
    "\n",
    "1. Pandas\n",
    "2. Scikit-Learn\n",
    "3. NumPy\n",
    "4. Keras\n",
    "5. TensorFlow\n",
    "6. PyTorch\n",
    "7. Matplotlib\n",
    "8. Seaborn\n",
    "9. SciPy\n",
    "10. XGBoost"
   ]
  },
  {
   "cell_type": "markdown",
   "id": "55357ab5-0fee-49c2-8310-1e235e615c12",
   "metadata": {},
   "source": [
    "|Data Science Tools|\n",
    "|------------------|\n",
    "|Jupyter NoteBook  |\n",
    "|    RStudio       |\n",
    "|  Apache Zeppelin |"
   ]
  },
  {
   "cell_type": "markdown",
   "id": "23a112e6-17e2-4393-aa4a-c7145d9609ec",
   "metadata": {},
   "source": [
    "### Below are a few examples of evaluating arithmetic expressions in Python"
   ]
  },
  {
   "cell_type": "code",
   "execution_count": 40,
   "id": "7fe98a21-bbb5-4d96-affb-e1527b261d8f",
   "metadata": {},
   "outputs": [
    {
     "data": {
      "text/plain": [
       "17"
      ]
     },
     "execution_count": 40,
     "metadata": {},
     "output_type": "execute_result"
    }
   ],
   "source": [
    "#This a simple arithmetic expression to mutiply then add integers\n",
    "(3*4)+5"
   ]
  },
  {
   "cell_type": "code",
   "execution_count": 44,
   "id": "750cc87c-5fb9-427e-8022-702e2bed9ab5",
   "metadata": {},
   "outputs": [
    {
     "name": "stdout",
     "output_type": "stream",
     "text": [
      "3.3333333333333335\n"
     ]
    }
   ],
   "source": [
    "#This will convert 200 minutes to hours by diving by 60\n",
    "hours=200/60\n",
    "print(hours)"
   ]
  },
  {
   "cell_type": "markdown",
   "id": "4808351f-a0cb-4c93-9773-bf6cc274d3ad",
   "metadata": {},
   "source": [
    "## Author\n",
    "Grace Mariya"
   ]
  }
 ],
 "metadata": {
  "kernelspec": {
   "display_name": "Python 3 (ipykernel)",
   "language": "python",
   "name": "python3"
  },
  "language_info": {
   "codemirror_mode": {
    "name": "ipython",
    "version": 3
   },
   "file_extension": ".py",
   "mimetype": "text/x-python",
   "name": "python",
   "nbconvert_exporter": "python",
   "pygments_lexer": "ipython3",
   "version": "3.12.4"
  }
 },
 "nbformat": 4,
 "nbformat_minor": 5
}
